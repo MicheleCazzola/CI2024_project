{
 "cells": [
  {
   "cell_type": "code",
   "execution_count": 28,
   "metadata": {},
   "outputs": [],
   "source": [
    "import numpy as np\n",
    "from gplearn.genetic import SymbolicRegressor\n",
    "import matplotlib.pyplot as plt\n",
    "from sklearn.model_selection import train_test_split\n",
    "from sklearn.metrics import mean_squared_error"
   ]
  },
  {
   "cell_type": "code",
   "execution_count": 29,
   "metadata": {},
   "outputs": [],
   "source": [
    "# Example dataset\n",
    "np.random.seed(42)\n",
    "x = np.random.uniform(-10, 10, 100).reshape(-1, 1)  # Input feature\n",
    "y = 3 * x[:, 0]**2 - 2 * x[:, 0] + 5 + np.random.normal(0, 10, 100)  # Target variable"
   ]
  },
  {
   "cell_type": "code",
   "execution_count": 30,
   "metadata": {},
   "outputs": [
    {
     "data": {
      "text/plain": [
       "((1000, 2), (1000,))"
      ]
     },
     "execution_count": 30,
     "metadata": {},
     "output_type": "execute_result"
    }
   ],
   "source": [
    "problem = np.load('problem_0.npz')\n",
    "x = problem['x'].T\n",
    "y = problem['y']\n",
    "\n",
    "x.shape, y.shape"
   ]
  },
  {
   "cell_type": "code",
   "execution_count": null,
   "metadata": {},
   "outputs": [
    {
     "name": "stdout",
     "output_type": "stream",
     "text": [
      "    |   Population Average    |             Best Individual              |\n",
      "---- ------------------------- ------------------------------------------ ----------\n",
      " Gen   Length          Fitness   Length          Fitness      OOB Fitness  Time Left\n",
      "   0    37.95          71888.8        5        0.0905784        0.0977432     43.38s\n",
      "   1    10.47           2.8816        9        0.0285096        0.0307542     25.99s\n",
      "   2     6.08          4.68045        7         0.020248        0.0209593     22.30s\n",
      "   3     1.66          0.89758        7        0.0200952        0.0223345     18.90s\n",
      "   4     2.22         0.561448        7        0.0201614        0.0217391     17.72s\n",
      "   5     4.43          1.36067        5       0.00441374        0.0041811     18.19s\n",
      "Best formula: sub(X0, mul(-0.188, X1))\n"
     ]
    }
   ],
   "source": [
    "x_train, x_valid, y_train, y_valid = train_test_split(x, y, test_size=0.2, random_state=42)\n",
    "\n",
    "# Define the symbolic regressor\n",
    "est = SymbolicRegressor(\n",
    "    population_size=2000,\n",
    "    generations=20,\n",
    "    stopping_criteria=0.01,\n",
    "    p_crossover=0.7,\n",
    "    p_subtree_mutation=0.1,\n",
    "    p_hoist_mutation=0.05,\n",
    "    p_point_mutation=0.1,\n",
    "    max_samples=0.9,\n",
    "    verbose=1,\n",
    "    parsimony_coefficient=0.01,\n",
    "    random_state=42\n",
    ")\n",
    "\n",
    "# Fit the model\n",
    "est.fit(x_train, y_train)\n",
    "\n",
    "# Predict on test data\n",
    "y_pred = est.predict(x_valid)\n",
    "\n",
    "# Print the resulting formula\n",
    "print(\"Best formula:\", est._program)"
   ]
  },
  {
   "cell_type": "code",
   "execution_count": null,
   "metadata": {},
   "outputs": [
    {
     "name": "stdout",
     "output_type": "stream",
     "text": [
      "Mean Squared Error on Test Set: 3.57412610479839e-05\n"
     ]
    }
   ],
   "source": [
    "# Evaluate and visualize\n",
    "mse = mean_squared_error(y_valid, y_pred)\n",
    "print(f\"Mean Squared Error on Test Set: {mse}\")"
   ]
  }
 ],
 "metadata": {
  "kernelspec": {
   "display_name": "venv",
   "language": "python",
   "name": "python3"
  },
  "language_info": {
   "codemirror_mode": {
    "name": "ipython",
    "version": 3
   },
   "file_extension": ".py",
   "mimetype": "text/x-python",
   "name": "python",
   "nbconvert_exporter": "python",
   "pygments_lexer": "ipython3",
   "version": "3.12.4"
  }
 },
 "nbformat": 4,
 "nbformat_minor": 2
}
